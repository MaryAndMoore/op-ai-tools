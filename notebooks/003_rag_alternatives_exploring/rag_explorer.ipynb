{
 "cells": [
  {
   "cell_type": "markdown",
   "metadata": {},
   "source": [
    "# Notebook for exploring variations on LLM, embeddings, RAG arch and prompt"
   ]
  },
  {
   "cell_type": "markdown",
   "metadata": {},
   "source": [
    "## DBs that are going to be retrieved"
   ]
  },
  {
   "cell_type": "code",
   "execution_count": 1,
   "metadata": {},
   "outputs": [],
   "source": [
    "dbs = [\n",
    "    \"full_docs\",\n",
    "    \"fragments_docs\",\n",
    "    \"posts_forum\"\n",
    "]"
   ]
  },
  {
   "cell_type": "markdown",
   "metadata": {},
   "source": [
    "## Options of embedding, chat and vectorscore to be tested"
   ]
  },
  {
   "cell_type": "code",
   "execution_count": 2,
   "metadata": {},
   "outputs": [],
   "source": [
    "# we are going to test the open ai api for embeddings\n",
    "embedding_models = [\"text-embedding-3-small\", \"text-embedding-3-large\", \"text-embedding-ada-002\"]\n",
    "\n",
    "# we are going to test the open ai api for chat\n",
    "chat_models = [\"gpt-3.5-turbo-0125\", \"gpt-4o\"]\n",
    "\n",
    "# we are going to use faiss\n",
    "vectorstores = ['faiss']"
   ]
  },
  {
   "cell_type": "markdown",
   "metadata": {},
   "source": [
    "## Imports"
   ]
  },
  {
   "cell_type": "code",
   "execution_count": 3,
   "metadata": {},
   "outputs": [],
   "source": [
    "# general\n",
    "import pandas as pd\n",
    "import numpy as np\n",
    "import os, asyncio, time, re\n",
    "from getpass import getpass\n",
    "from datetime import datetime\n",
    "import tiktoken # metrics\n",
    "import nest_asyncio\n",
    "nest_asyncio.apply()\n",
    "\n",
    "# embedding and chat\n",
    "from langchain_openai import OpenAIEmbeddings\n",
    "from langchain_openai import ChatOpenAI\n",
    "from langchain_core.prompts import ChatPromptTemplate\n",
    "# openai api key\n",
    "openai_api_key = getpass(\"Enter the OpenAI API key: \")\n",
    "\n",
    "# vectorstore\n",
    "if 'faiss' in vectorstores:\n",
    "    from langchain_community.vectorstores import FAISS\n",
    "\n",
    "# for tracking\n",
    "import weave\n",
    "from weave import Evaluation"
   ]
  },
  {
   "cell_type": "markdown",
   "metadata": {},
   "source": [
    "## Import test data "
   ]
  },
  {
   "cell_type": "code",
   "execution_count": 4,
   "metadata": {},
   "outputs": [
    {
     "data": {
      "text/plain": [
       "[{'question': 'How can I get involved in the Optimism Collective?',\n",
       "  'expected': 'You can get involved in the Optimism Collective by following three principles: do what you love, fix problems together, and do it with optimism. There are various ways to contribute, such as helping with translations, improving documentation, participating in local events, or joining support programs like the NERD program.',\n",
       "  'origin': 'documentation'},\n",
       " {'question': 'Can Optimism currently censor user transactions?',\n",
       "  'expected': \"No, even though the Optimism Foundation currently runs the sole sequencer on OP Mainnet, it does not have the ability to censor user transactions. However, decentralizing the sequencer is still a goal to further enhance the network's robustness and inclusivity.\",\n",
       "  'origin': 'documentation'},\n",
       " {'question': 'Who are the members of the proposed Decentralized Finance Governance Committee for Optimism?',\n",
       "  'expected': 'The committee consists of Katie Garcia, GFX Labs, Flipside Crypto, StableNode, and Linda Xie.',\n",
       "  'origin': 'forum'},\n",
       " {'question': 'What were some of the outcomes and feedback from Season 3 of the Grants Council?',\n",
       "  'expected': 'Season 3 saw the review of over 150 proposals, with feedback indicating a significant improvement in the grants process. The Council received an NPS of 9.2 out of 10 from successful proposers, highlighting its emphasis on transparency and efficiency.',\n",
       "  'origin': 'forum'},\n",
       " {'question': \"Why is there a 'no-sale' rule for growth experiments?\",\n",
       "  'expected': \"The 'no-sale' rule for growth experiments ensures that grants are used to drive consumer interactions and usage of applications on Optimism, rather than being sold by the protocol that receives them. This rule makes it explicit that the grants should be distributed to drive consumer usage in line with the experiment outlined in the grant.\",\n",
       "  'origin': 'forum'},\n",
       " {'question': 'What kind of activities can the Optimism Foundation perform due to its legal status?',\n",
       "  'expected': 'The Optimism Foundation can enter into contracts with third parties, administer intellectual property rights, and make required governmental reports and filings.',\n",
       "  'origin': 'documentation_fragment'},\n",
       " {'question': 'What types of contributions are eligible for RetroPGF?',\n",
       "  'expected': \"Every type of contribution to the Optimism ecosystem is eligible for Retro Funding. This includes developers working on Ethereum execution clients, educators creating Optimism-inspired content, artists, creators, writers, builders, and evangelists. Essentially, if you're providing impact to the Optimism Collective, you're eligible.\",\n",
       "  'origin': 'documentation'},\n",
       " {'question': 'Where can I see applications for voting on Retro Funding?',\n",
       "  'expected': 'You can see applications on the voting applications from Agora and West. The links are [Agora](https://vote.optimism.io/retropgf/3) and [West](https://round3.optimism.io/).',\n",
       "  'origin': 'documentation_fragment'},\n",
       " {'question': 'Do I need to claim my tokens for Airdrop #2?',\n",
       "  'expected': 'No, Airdrop #2 tokens are distributed directly to eligible wallets. There is no need to claim tokens by interacting with any website.',\n",
       "  'origin': 'documentation'},\n",
       " {'question': 'What are the main governance structures introduced in Season 5?',\n",
       "  'expected': \"Season 5 introduces several governance structures including the Security Council, Developer Advisory Board, Anticapture Commission, Grants Council, and Code of Conduct Councils, each with specific roles and responsibilities to support the Collective's goals.\",\n",
       "  'origin': 'forum'},\n",
       " {'question': 'How does a non-grant proposal proceed to a vote in the Optimism Governance Forum?',\n",
       "  'expected': 'For a non-grant proposal to proceed to a vote, four of the top 100 delegates, based on the current votable token supply, must give explicit approval on the discussion thread. Delegates may not approve their own proposals.',\n",
       "  'origin': 'forum'},\n",
       " {'question': 'What were some of the key activities and contributions of Women Biz to the Optimism ecosystem?',\n",
       "  'expected': 'Women Biz organized numerous events, workshops, and tours throughout Peru, teaching how to mint NFTs, POAPs, delegate votes, and more. They also created content on platforms like Mirror.xyz, conducted interviews, and promoted Optimism through various channels.',\n",
       "  'origin': 'forum'},\n",
       " {'question': 'Who can join alliances and participate in missions?',\n",
       "  'expected': 'Anyone can join or form an alliance, which can be a single person, a group of contributors, or even an incorporated entity.',\n",
       "  'origin': 'forum'},\n",
       " {'question': \"What will happen after the Working Constitution's period ends?\",\n",
       "  'expected': \"After the Working Constitution's period ends, authority over governance will be ceded to a permanent Bedrock Constitution that incorporates the lessons learned from the Collective’s prior governance experiments.\",\n",
       "  'origin': 'documentation'},\n",
       " {'question': 'What are Retroactive Public Goods Funding (RetroPGF) rounds?',\n",
       "  'expected': 'Retroactive Public Goods Funding (RetroPGF) rounds are quarterly events where Optimism rewards public goods based on their impact on the ecosystem. This funding is sourced from the initial OP token supply and network revenues. The goal is to ensure that impactful projects are adequately and reliably rewarded.',\n",
       "  'origin': 'documentation'},\n",
       " {'question': 'What is the action plan if a critical security issue is discovered before the MCP L1 upgrade is deployed?',\n",
       "  'expected': 'If a critical security issue is discovered, OP Labs will collaborate with the community to extensively communicate that the upgrade will no longer occur.',\n",
       "  'origin': 'forum'},\n",
       " {'question': \"What should I do if I find a bug that is not covered by Optimism's existing bug bounty programs?\",\n",
       "  'expected': \"If you find a critical or major bug that is not covered by Optimism's existing bug bounty programs, you should still report it via the Immunefi program. Optimism will seriously consider the impact of any issues and has previously rewarded security researchers for bugs not within the stated scope of the program.\",\n",
       "  'origin': 'documentation'},\n",
       " {'question': 'How are the rubrics for reviewing Mission applications in Season 5 structured?',\n",
       "  'expected': 'The rubrics are standardized for each intent and subcommittee, with optional categories that can be removed if not applicable to a specific mission request. They are designed to guide reviewers in evaluating applications consistently.',\n",
       "  'origin': 'forum'},\n",
       " {'question': 'How is the scope and voting process for Retro Funding determined?',\n",
       "  'expected': 'During the initial stages, the Optimism Foundation determines the scope and amount of each funding round and administers the voting process. Over time, the Citizens’ House will take on more responsibility for these decisions, with checks and balances from the Token House. The process involves regular rounds of funding, each different from the last, to refine tools and processes based on community participation and experimentation.',\n",
       "  'origin': 'documentation'},\n",
       " {'question': 'What concerns did jackanorak express about some of the missions under Intent 3?',\n",
       "  'expected': 'Jackanorak expressed concerns that some missions appeared as outright giveaways relative to the value they would create and emphasized the need to consider competition and the broader vision of Optimism in governance decisions.',\n",
       "  'origin': 'forum'},\n",
       " {'question': 'How can limiting delegate voting power promote decentralization and new delegate inclusion?',\n",
       "  'expected': 'Limiting delegate voting power can prevent centralization by ensuring that no single delegate has excessive influence. This encourages token holders to redelegate their tokens to other delegates, promoting a more diverse and active community.',\n",
       "  'origin': 'forum'},\n",
       " {'question': 'How can I claim my Airdrop #4 rewards?',\n",
       "  'expected': 'You can claim your Airdrop #4 rewards by visiting [https://app.optimism.io/airdrops](https://app.optimism.io/airdrops).',\n",
       "  'origin': 'documentation'},\n",
       " {'question': 'What are the key milestones Giveth aims to achieve with the Optimism grant?',\n",
       "  'expected': 'The key milestones include enabling projects to add an Optimism donation address, launching GIVpower and GIVbacks on Optimism, and achieving significant user engagement metrics such as 100 donors of over $10, 30+ projects receiving donations, $100k in donations to verified projects, and 1M GIV staked for GIVpower.',\n",
       "  'origin': 'forum'},\n",
       " {'question': \"How can I promote my project once it's deployed on the Superchain?\",\n",
       "  'expected': \"Once your project is deployed on the Superchain, you can be added to the Superchain apps page by filling out a specific form. To amplify your app launch through Superchain marketing channels, you can fill out another form. Keep in mind that inclusion and amplification are at Optimism's discretion.\",\n",
       "  'origin': 'documentation'},\n",
       " {'question': 'What should I do if I am a Top 100 delegate and want to approve a non-grant proposal?',\n",
       "  'expected': \"If you are a Top 100 delegate, you can approve non-grant proposals by posting the phrase 'I am an Optimism delegate with sufficient voting power and I believe this proposal is ready to move to a vote' in a forum comment on Discourse. Non-grant proposals need at least 4 approvals to move to a vote.\",\n",
       "  'origin': 'documentation_fragment'},\n",
       " {'question': 'What is the trend observed in the types of proposals received in Cycle 15?',\n",
       "  'expected': 'Cycle 15 saw more Builders proposals than Experiments proposals, indicating a focus on innovating novel applications.',\n",
       "  'origin': 'forum'},\n",
       " {'question': 'Do I need to hold a minimum amount of tokens to submit a proposal?',\n",
       "  'expected': 'No, there is no minimum holding requirement for submitting a proposal. However, all non-grant proposals must be approved by four delegates with sufficient voting power to move to a vote.',\n",
       "  'origin': 'documentation'},\n",
       " {'question': 'How were the badgeholders for RetroPGF Round 2 selected?',\n",
       "  'expected': 'Badgeholders for RetroPGF Round 2 were selected through four different criteria: 14 were chosen based on their participation in the first round, 21 were selected by the Optimism Foundation, 10 were elected by Optimism’s Token House, and 29 were nominated by badgeholders from the previous three categories.',\n",
       "  'origin': 'documentation'},\n",
       " {'question': 'What are some proposed solutions to address the issue of popularity bias and nepotism in the RetroPGF voting process?',\n",
       "  'expected': 'One solution is to require badgeholders to review entire categories of projects rather than individual projects, ensuring smaller projects get fair evaluations.',\n",
       "  'origin': 'forum'},\n",
       " {'question': 'What is the main purpose of the Optimism Foundation?',\n",
       "  'expected': 'The main purpose of the Optimism Foundation is to support the establishment of the Optimism Collective, develop the Optimism ecosystem, and advance the technology that powers it. It also provides a formal legal entity to support the Collective and stewards the early evolution of Collective governance.',\n",
       "  'origin': 'documentation'},\n",
       " {'question': 'What are the key timelines for RetroPGF round 2?',\n",
       "  'expected': 'Project nominations are from Jan 17 to Jan 31, the final project opt-in deadline is Feb 21, and voting takes place from Mar 7 to Mar 21.',\n",
       "  'origin': 'forum'},\n",
       " {'question': 'When will the Citizens’ House veto vote take place?',\n",
       "  'expected': 'The Citizens’ House veto vote will take place via Snapshot from June 20th to June 26th.',\n",
       "  'origin': 'forum'},\n",
       " {'question': 'How can I get test tokens on the OP Goerli network?',\n",
       "  'expected': 'You can obtain test tokens, including ETH, ERC-20, and NFT tokens, from faucets. You can find more information on how to access these faucets [here](../useful-tools/faucets.md).',\n",
       "  'origin': 'documentation'},\n",
       " {'question': 'How does the Pairwise voting system work in the context of RetroPGF?',\n",
       "  'expected': 'Pairwise is an open-source, off-chain voting dapp that simplifies community signaling by allowing users to select between two options and aggregating their choices into a quantifiable result. It aims to be user-friendly and intuitive, converting subjective inputs into objective, measurable outputs.',\n",
       "  'origin': 'forum'},\n",
       " {'question': 'How can I become a support NERD in the Optimism community?',\n",
       "  'expected': \"To become a support NERD, you need to follow a few steps. First, you start as a 'wannabe-NERD' by filling out a form and being active in the Optimism Discord for at least two months. Then, you move to 'NERD-in-training' by proving your contributions and continuing to offer support for an additional two months. Finally, if your support is of high quality, you can be nominated and voted on by existing support NERDs to become a full 'support-NERD'.\",\n",
       "  'origin': 'documentation'},\n",
       " {'question': 'What changes are being considered to improve the Mission proposal process?',\n",
       "  'expected': 'Changes being considered include separating the Council and Mission processes, redesigning the approval process to allow delegates to opt-in for specific Intents, and improving the accessibility of the system through better templates, guides, and workshops.',\n",
       "  'origin': 'forum'},\n",
       " {'question': 'What are the benefits of using Reputation-based Weighted Voting in DAO decision-making?',\n",
       "  'expected': 'RWV encourages voters to become experts in their domain, establishes incentives for decision-makers, and grants voting power to those actively involved in good decisions, making the process transparent and robust.',\n",
       "  'origin': 'forum'},\n",
       " {'question': 'What tools from the Optimism community are integrated into the bootcamp?',\n",
       "  'expected': 'The bootcamp integrates tools such as Mirror, Praise, 1inch, Charmverse, Thirdweb3, Unlockprotocol, and Zora.',\n",
       "  'origin': 'forum'},\n",
       " {'question': 'What idea was proposed regarding the vote threshold for different amounts of OP requested?',\n",
       "  'expected': 'It was proposed to have a scaling vote threshold for the amount of OP requested, meaning larger grants (e.g., 4 million OP) should require more buy-in than smaller grants (e.g., 100k OP).',\n",
       "  'origin': 'forum'},\n",
       " {'question': 'Why should I delegate my OP tokens?',\n",
       "  'expected': 'Delegating your OP tokens allows you to participate in the governance of the Optimism Token House without needing to commit a lot of time. You can delegate your voting power to a community member who has volunteered to be an active participant in governance. This way, your interests are represented without you having to vote on every issue yourself.',\n",
       "  'origin': 'documentation'},\n",
       " {'question': 'How will the committee make its recommendations?',\n",
       "  'expected': 'The committee will provide basic due diligence research, a brief summary, and a voting recommendation for each proposal related to borrow/lend protocols, decentralized exchanges, yield aggregators, decentralized stablecoins, and other DeFi-related proposals. Recommendations will be decided by a simple majority vote.',\n",
       "  'origin': 'forum'},\n",
       " {'question': 'What are the potential risks and safeguards associated with the fault proof system?',\n",
       "  'expected': 'The potential risks include the possibility of bugs in the Fault Dispute Game, which could require proactive intervention by the Guardian role to prevent invalid withdrawals. Safeguards include off-chain monitoring, a delay before withdrawals can occur, and the ability for the Guardian to blacklist dispute games or revert to a permissioned system.',\n",
       "  'origin': 'forum'},\n",
       " {'question': 'What are the main features introduced by the Ecotone network upgrade?',\n",
       "  'expected': 'The main features include EIP-4844 blobs for data availability, Dencun L1 extensions, new opcodes, and beacon root support.',\n",
       "  'origin': 'forum'},\n",
       " {'question': 'How are users currently finding unread posts in the redesigned forum?',\n",
       "  'expected': \"Users are currently going to the 'latest' tab to find unread posts.\",\n",
       "  'origin': 'forum'},\n",
       " {'question': 'What suggestions were made to improve the voting process?',\n",
       "  'expected': 'Suggestions include having a break between voting cycles to allow more time for review, creating a committee to enforce rules and maintain standards, and being more optimistic and less risk-averse in evaluating proposals to help kickstart the ecosystem.',\n",
       "  'origin': 'forum'},\n",
       " {'question': 'How long do I need to offer support before becoming a `support-NERD`?',\n",
       "  'expected': 'You need to offer support for a total of five months before becoming a `support-NERD`. Initially, you need to offer support for three months to get the `nerd-in-training` role. Then, you need to continue offering support for an additional two months while holding the `nerd-in-training` role.',\n",
       "  'origin': 'documentation_fragment'},\n",
       " {'question': 'Who is Cryptoversidad and what is their mission?',\n",
       "  'expected': 'Cryptoversidad is an educational platform that focuses on teaching and using web3 technology. Their mission is to make web3 easy to understand and use through university education, explainer videos, tutorials, workshops, and in-person events.',\n",
       "  'origin': 'forum'},\n",
       " {'question': 'How do I apply for a Mission Grant on Optimism?',\n",
       "  'expected': 'To apply for a Mission Grant, find an open Mission Request on the list provided on their GitHub, submit your application via the application link or as a comment on the GitHub Issue, and your application will be evaluated by the Grants Council or the Optimism Foundation.',\n",
       "  'origin': 'documentation'},\n",
       " {'question': 'What new features has Karma introduced to improve delegate onboarding and management?',\n",
       "  'expected': 'Karma introduced features like an onboarding flow for delegates to update their pitch and skills, the ability to withdraw nominations, linking social handles, and marking inactive delegates.',\n",
       "  'origin': 'forum'},\n",
       " {'question': \"What are the main security properties that any voting system must have according to Vitalik's blog post?\",\n",
       "  'expected': 'The main security properties are correct execution, censorship resistance, privacy, and coercion resistance.',\n",
       "  'origin': 'forum'}]"
      ]
     },
     "execution_count": 4,
     "metadata": {},
     "output_type": "execute_result"
    }
   ],
   "source": [
    "test_path = \"../002_create_test_dataset/questions_test_dataset.csv\"\n",
    "test_dataset = pd.read_csv(test_path)\n",
    "\n",
    "# drop origin\n",
    "#test_dataset = test_dataset.drop(columns=['origin'])\n",
    "\n",
    "# change columns\n",
    "test_dataset = test_dataset.rename(columns={'answer': 'expected'})\n",
    "\n",
    "# sample 50 questions\n",
    "test_dataset = test_dataset.sample(50, random_state=42)\n",
    "\n",
    "# as dict\n",
    "test_dataset = test_dataset.to_dict(orient='records')\n",
    "test_dataset"
   ]
  },
  {
   "cell_type": "markdown",
   "metadata": {},
   "source": [
    "## General definitions for accessing data and creating model"
   ]
  },
  {
   "cell_type": "code",
   "execution_count": 5,
   "metadata": {},
   "outputs": [],
   "source": [
    "def load_db(dbs, model_embeddings, vectorstore = 'faiss'):\n",
    "    embeddings = OpenAIEmbeddings(model=model_embeddings, openai_api_key=openai_api_key)\n",
    "    if vectorstore == 'faiss':\n",
    "        dbs = [f\"dbs/{name}_db/faiss/{model_embeddings}\" for name in dbs]\n",
    "        dbs = [FAISS.load_local(db_path, embeddings, allow_dangerous_deserialization=True) for db_path in dbs]\n",
    "        db = dbs[0]\n",
    "        for db_ in dbs[1:]:\n",
    "            db.merge_from(db_)\n",
    "    \n",
    "    return db"
   ]
  },
  {
   "cell_type": "code",
   "execution_count": 7,
   "metadata": {},
   "outputs": [],
   "source": [
    "@weave.op()\n",
    "def build_model(dbs_name, embeddings_name, chat_pars, prompt_template, vectorstore = 'faiss', retriever_pars = {}):\n",
    "    db = load_db(dbs_name, embeddings_name, vectorstore)\n",
    "\n",
    "    prompt = ChatPromptTemplate.from_template(prompt_template)\n",
    "    llm = ChatOpenAI(**chat_pars, openai_api_key=openai_api_key)\n",
    "    chain = prompt | llm\n",
    "\n",
    "    if vectorstore == 'faiss':\n",
    "        retriever = db.as_retriever(**retriever_pars)\n",
    "\n",
    "    return retriever, chain\n",
    "    \n",
    "\n",
    "class RAGModel(weave.Model):\n",
    "    structure : str = \"simple-rag\" # just a retriever and a llm\n",
    "\n",
    "    dbs_name : list\n",
    "    embeddings_name : str\n",
    "\n",
    "    vectorstore : str\n",
    "    retriever_pars : dict\n",
    "\n",
    "    prompt_template : str\n",
    "    chat_pars : dict[str, str|int]\n",
    "\n",
    "    @weave.op()\n",
    "    def predict(self, question: str):\n",
    "        retriever, chain = build_model(self.dbs_name, self.embeddings_name, self.chat_pars, self.prompt_template, self.vectorstore, self.retriever_pars)\n",
    "\n",
    "        if self.vectorstore == 'faiss':\n",
    "            context = retriever.invoke(question)\n",
    "\n",
    "        response = chain.invoke(\n",
    "            {\n",
    "                \"context\": context,\n",
    "                \"question\": question,\n",
    "            }\n",
    "        )\n",
    "        \n",
    "        return {\"context\": str(context), \"answer\": response.content}\n",
    "    \n",
    "    def ask(self, question: str):\n",
    "        out = self.predict(question)\n",
    "        return out[\"answer\"]\n",
    "    "
   ]
  },
  {
   "cell_type": "markdown",
   "metadata": {},
   "source": [
    "## Metrics"
   ]
  },
  {
   "cell_type": "code",
   "execution_count": 8,
   "metadata": {},
   "outputs": [],
   "source": [
    "# reference embedding\n",
    "reference_embedding = \"text-embedding-ada-002\"\n",
    "reference_embedding = OpenAIEmbeddings(model=reference_embedding, openai_api_key=openai_api_key)\n",
    "\n",
    "# reference chat\n",
    "reference_chat = \"gpt-4o\"\n",
    "reference_chat = ChatOpenAI(model=reference_chat, openai_api_key=openai_api_key)\n",
    "\n",
    "# reference tokenization\n",
    "reference_tokenization = tiktoken.get_encoding(\"cl100k_base\")"
   ]
  },
  {
   "cell_type": "code",
   "execution_count": 9,
   "metadata": {},
   "outputs": [],
   "source": [
    "# EVALUATE THE RETRIEVER\n",
    "def calc_context_recall(context, question, expected):\n",
    "    # measure if the expected meaning is contained in the context meaning\n",
    "    # info: https://aclanthology.org/2024.eacl-demo.16.pdf\n",
    "\n",
    "    # we try to find a set of fundamental statements that encompass the meaning of the answer\n",
    "    statements = reference_chat.invoke(\n",
    "        f\"Given a question and answer, return the fundamental statements from the answer's meaning. \\n question: {question} \\n answer: {expected}\"\n",
    "    ).content\n",
    "    # we try to find if the statements are supported by the context\n",
    "    veredicts = reference_chat.invoke(\n",
    "        f\"Consider the given context and following statements, then determine whether they are supported by the information present in the context. Provide a brief explanation for each statement before arriving at the verdict (Yes/No). Let the veredict be the final word of each line. \\n\\n <context> \\n {context} <\\\\context> \\n\\n <statements> \\n {statements} \\n <\\\\statements>\"\n",
    "    ).content\n",
    "\n",
    "    # get the last word of each line\n",
    "    veredicts = veredicts.split(\"\\n\")\n",
    "    veredicts = [veredict.split(\" \")[-1].lower() for veredict in veredicts]\n",
    "    n_yes = 0\n",
    "    n_no = 0\n",
    "    for veredict in veredicts:\n",
    "        if \"yes\" in veredict:\n",
    "            n_yes += 1\n",
    "        elif \"no\" in veredict:\n",
    "            n_no += 1\n",
    "        else:\n",
    "            None\n",
    "\n",
    "    try:\n",
    "        recall = n_yes / (n_yes + n_no)\n",
    "    except ZeroDivisionError:\n",
    "        recall = 0\n",
    "\n",
    "    return recall\n",
    "\n",
    "def calc_context_conciseness(context, expected):\n",
    "    # measure the size of the context compared to the expected answer\n",
    "    num_tokens_context = len(reference_tokenization.encode(context))\n",
    "    num_tokens_expected = len(reference_tokenization.encode(expected))\n",
    "\n",
    "    return num_tokens_expected / num_tokens_context\n",
    "\n",
    "# EVALUATE THE LLM\n",
    "def calc_answer_relevance(answer, question):\n",
    "    # measure how much the answer resembles to be answering the question\n",
    "    # info: https://aclanthology.org/2024.eacl-demo.16.pdf\n",
    "    hipot_question = reference_chat.invoke(\n",
    "        f\"Generate a question for the given answer. \\n answer: {answer}\"\n",
    "    ).content\n",
    "    hipot_question_embedding = np.array(reference_embedding.embed_query(hipot_question))\n",
    "    question_embedding = np.array(reference_embedding.embed_query(question))\n",
    "    return np.dot(hipot_question_embedding, question_embedding) / (np.linalg.norm(hipot_question_embedding) * np.linalg.norm(question_embedding))\n",
    "\n",
    "def calc_faithfulness(context, question, answer):\n",
    "    # measure if the answer's meaning is contained in the context meaning\n",
    "    # info: https://aclanthology.org/2024.eacl-demo.16.pdf\n",
    "    return calc_context_recall(context, question, answer)\n",
    "\n",
    "\n",
    "# EVALUATE END-TO-END\n",
    "def calc_answer_semantic_similarity(answer, expected):\n",
    "    # measure similarity between the answer and the expected answer\n",
    "    # info: https://docs.ragas.io/en/latest/concepts/metrics/semantic_similarity.html\n",
    "    answer_embedding = np.array(reference_embedding.embed_query(answer))\n",
    "    expected_embedding = np.array(reference_embedding.embed_query(expected))\n",
    "\n",
    "    return np.dot(answer_embedding, expected_embedding) / (np.linalg.norm(answer_embedding) * np.linalg.norm(expected_embedding))\n",
    "\n",
    "def calc_answer_conciseness(answer, expected):\n",
    "    # measure the size of the answer compared to the expected answer\n",
    "    num_tokens_answer = len(reference_tokenization.encode(answer))\n",
    "    num_tokens_expected = len(reference_tokenization.encode(expected))\n",
    "\n",
    "    return num_tokens_expected / num_tokens_answer\n",
    "\n",
    "# ALL\n",
    "def calc_metrics(question, expected, context, answer):\n",
    "    return {\n",
    "        \"retriever\": {\n",
    "            \"context_recall\": calc_context_recall(context, question, expected),\n",
    "            \"context_conciseness\": calc_context_conciseness(context, expected)\n",
    "        },\n",
    "        \"llm\": {\n",
    "            \"answer_relevance\": calc_answer_relevance(answer, question),\n",
    "            \"faithfulness\": calc_faithfulness(context, question, answer)\n",
    "        },\n",
    "        \"end-to-end\": {\n",
    "            \"answer_semantic_similarity\": calc_answer_semantic_similarity(answer, expected),\n",
    "            \"answer_conciseness\": calc_answer_conciseness(answer, expected)\n",
    "        }\n",
    "    }"
   ]
  },
  {
   "cell_type": "code",
   "execution_count": 10,
   "metadata": {},
   "outputs": [],
   "source": [
    "@weave.op()\n",
    "def eval_model(question: str, expected: str, model_output: dict) -> dict:\n",
    "    return calc_metrics(question, expected, model_output[\"context\"], model_output[\"answer\"])"
   ]
  },
  {
   "cell_type": "code",
   "execution_count": 11,
   "metadata": {},
   "outputs": [],
   "source": [
    "def run_rag_evaluation(rag, test_dataset=test_dataset):\n",
    "    evaluation = Evaluation(\n",
    "        dataset=test_dataset, scorers=[eval_model],\n",
    "    )\n",
    "\n",
    "    with weave.attributes({'dbs': rag.dbs_name, 'embeddings': rag.embeddings_name, 'chat_pars': rag.chat_pars, 'prompt_template': rag.prompt_template, 'retriever_pars': rag.retriever_pars, 'vectorstore': rag.vectorstore, \"structure\": rag.structure}):\n",
    "        asyncio.run(evaluation.evaluate(rag.predict))"
   ]
  },
  {
   "cell_type": "markdown",
   "metadata": {},
   "source": [
    "## Tests"
   ]
  },
  {
   "cell_type": "code",
   "execution_count": 12,
   "metadata": {},
   "outputs": [
    {
     "name": "stdout",
     "output_type": "stream",
     "text": [
      "weave version 0.50.6 is available!  To upgrade, please run:\n",
      " $ pip install weave --upgrade\n",
      "Logged in as Weights & Biases user: victorsouza.\n",
      "View Weave data at https://wandb.ai/bleu-builders/op-ai-tools/weave\n"
     ]
    },
    {
     "data": {
      "text/plain": []
     },
     "execution_count": 12,
     "metadata": {},
     "output_type": "execute_result"
    }
   ],
   "source": [
    "weave.init('op-ai-tools')"
   ]
  },
  {
   "cell_type": "code",
   "execution_count": 20,
   "metadata": {},
   "outputs": [
    {
     "data": {
      "text/html": [
       "<pre style=\"white-space:pre;overflow-x:auto;line-height:normal;font-family:Menlo,'DejaVu Sans Mono',consolas,'Courier New',monospace\">Evaluated <span style=\"color: #008080; text-decoration-color: #008080; font-weight: bold\">1</span> of <span style=\"color: #008080; text-decoration-color: #008080; font-weight: bold\">50</span> examples\n",
       "</pre>\n"
      ],
      "text/plain": [
       "Evaluated \u001b[1;36m1\u001b[0m of \u001b[1;36m50\u001b[0m examples\n"
      ]
     },
     "metadata": {},
     "output_type": "display_data"
    },
    {
     "data": {
      "text/html": [
       "<pre style=\"white-space:pre;overflow-x:auto;line-height:normal;font-family:Menlo,'DejaVu Sans Mono',consolas,'Courier New',monospace\">Evaluated <span style=\"color: #008080; text-decoration-color: #008080; font-weight: bold\">2</span> of <span style=\"color: #008080; text-decoration-color: #008080; font-weight: bold\">50</span> examples\n",
       "</pre>\n"
      ],
      "text/plain": [
       "Evaluated \u001b[1;36m2\u001b[0m of \u001b[1;36m50\u001b[0m examples\n"
      ]
     },
     "metadata": {},
     "output_type": "display_data"
    },
    {
     "data": {
      "text/html": [
       "<pre style=\"white-space:pre;overflow-x:auto;line-height:normal;font-family:Menlo,'DejaVu Sans Mono',consolas,'Courier New',monospace\">Evaluated <span style=\"color: #008080; text-decoration-color: #008080; font-weight: bold\">3</span> of <span style=\"color: #008080; text-decoration-color: #008080; font-weight: bold\">50</span> examples\n",
       "</pre>\n"
      ],
      "text/plain": [
       "Evaluated \u001b[1;36m3\u001b[0m of \u001b[1;36m50\u001b[0m examples\n"
      ]
     },
     "metadata": {},
     "output_type": "display_data"
    },
    {
     "data": {
      "text/html": [
       "<pre style=\"white-space:pre;overflow-x:auto;line-height:normal;font-family:Menlo,'DejaVu Sans Mono',consolas,'Courier New',monospace\">Evaluated <span style=\"color: #008080; text-decoration-color: #008080; font-weight: bold\">4</span> of <span style=\"color: #008080; text-decoration-color: #008080; font-weight: bold\">50</span> examples\n",
       "</pre>\n"
      ],
      "text/plain": [
       "Evaluated \u001b[1;36m4\u001b[0m of \u001b[1;36m50\u001b[0m examples\n"
      ]
     },
     "metadata": {},
     "output_type": "display_data"
    },
    {
     "data": {
      "text/html": [
       "<pre style=\"white-space:pre;overflow-x:auto;line-height:normal;font-family:Menlo,'DejaVu Sans Mono',consolas,'Courier New',monospace\">Evaluated <span style=\"color: #008080; text-decoration-color: #008080; font-weight: bold\">5</span> of <span style=\"color: #008080; text-decoration-color: #008080; font-weight: bold\">50</span> examples\n",
       "</pre>\n"
      ],
      "text/plain": [
       "Evaluated \u001b[1;36m5\u001b[0m of \u001b[1;36m50\u001b[0m examples\n"
      ]
     },
     "metadata": {},
     "output_type": "display_data"
    },
    {
     "data": {
      "text/html": [
       "<pre style=\"white-space:pre;overflow-x:auto;line-height:normal;font-family:Menlo,'DejaVu Sans Mono',consolas,'Courier New',monospace\">Evaluated <span style=\"color: #008080; text-decoration-color: #008080; font-weight: bold\">6</span> of <span style=\"color: #008080; text-decoration-color: #008080; font-weight: bold\">50</span> examples\n",
       "</pre>\n"
      ],
      "text/plain": [
       "Evaluated \u001b[1;36m6\u001b[0m of \u001b[1;36m50\u001b[0m examples\n"
      ]
     },
     "metadata": {},
     "output_type": "display_data"
    },
    {
     "data": {
      "text/html": [
       "<pre style=\"white-space:pre;overflow-x:auto;line-height:normal;font-family:Menlo,'DejaVu Sans Mono',consolas,'Courier New',monospace\">Evaluated <span style=\"color: #008080; text-decoration-color: #008080; font-weight: bold\">7</span> of <span style=\"color: #008080; text-decoration-color: #008080; font-weight: bold\">50</span> examples\n",
       "</pre>\n"
      ],
      "text/plain": [
       "Evaluated \u001b[1;36m7\u001b[0m of \u001b[1;36m50\u001b[0m examples\n"
      ]
     },
     "metadata": {},
     "output_type": "display_data"
    },
    {
     "data": {
      "text/html": [
       "<pre style=\"white-space:pre;overflow-x:auto;line-height:normal;font-family:Menlo,'DejaVu Sans Mono',consolas,'Courier New',monospace\">Evaluated <span style=\"color: #008080; text-decoration-color: #008080; font-weight: bold\">8</span> of <span style=\"color: #008080; text-decoration-color: #008080; font-weight: bold\">50</span> examples\n",
       "</pre>\n"
      ],
      "text/plain": [
       "Evaluated \u001b[1;36m8\u001b[0m of \u001b[1;36m50\u001b[0m examples\n"
      ]
     },
     "metadata": {},
     "output_type": "display_data"
    },
    {
     "data": {
      "text/html": [
       "<pre style=\"white-space:pre;overflow-x:auto;line-height:normal;font-family:Menlo,'DejaVu Sans Mono',consolas,'Courier New',monospace\">Evaluated <span style=\"color: #008080; text-decoration-color: #008080; font-weight: bold\">9</span> of <span style=\"color: #008080; text-decoration-color: #008080; font-weight: bold\">50</span> examples\n",
       "</pre>\n"
      ],
      "text/plain": [
       "Evaluated \u001b[1;36m9\u001b[0m of \u001b[1;36m50\u001b[0m examples\n"
      ]
     },
     "metadata": {},
     "output_type": "display_data"
    },
    {
     "data": {
      "text/html": [
       "<pre style=\"white-space:pre;overflow-x:auto;line-height:normal;font-family:Menlo,'DejaVu Sans Mono',consolas,'Courier New',monospace\">Evaluated <span style=\"color: #008080; text-decoration-color: #008080; font-weight: bold\">10</span> of <span style=\"color: #008080; text-decoration-color: #008080; font-weight: bold\">50</span> examples\n",
       "</pre>\n"
      ],
      "text/plain": [
       "Evaluated \u001b[1;36m10\u001b[0m of \u001b[1;36m50\u001b[0m examples\n"
      ]
     },
     "metadata": {},
     "output_type": "display_data"
    },
    {
     "data": {
      "text/html": [
       "<pre style=\"white-space:pre;overflow-x:auto;line-height:normal;font-family:Menlo,'DejaVu Sans Mono',consolas,'Courier New',monospace\">Evaluated <span style=\"color: #008080; text-decoration-color: #008080; font-weight: bold\">11</span> of <span style=\"color: #008080; text-decoration-color: #008080; font-weight: bold\">50</span> examples\n",
       "</pre>\n"
      ],
      "text/plain": [
       "Evaluated \u001b[1;36m11\u001b[0m of \u001b[1;36m50\u001b[0m examples\n"
      ]
     },
     "metadata": {},
     "output_type": "display_data"
    },
    {
     "data": {
      "text/html": [
       "<pre style=\"white-space:pre;overflow-x:auto;line-height:normal;font-family:Menlo,'DejaVu Sans Mono',consolas,'Courier New',monospace\">Evaluated <span style=\"color: #008080; text-decoration-color: #008080; font-weight: bold\">12</span> of <span style=\"color: #008080; text-decoration-color: #008080; font-weight: bold\">50</span> examples\n",
       "</pre>\n"
      ],
      "text/plain": [
       "Evaluated \u001b[1;36m12\u001b[0m of \u001b[1;36m50\u001b[0m examples\n"
      ]
     },
     "metadata": {},
     "output_type": "display_data"
    },
    {
     "data": {
      "text/html": [
       "<pre style=\"white-space:pre;overflow-x:auto;line-height:normal;font-family:Menlo,'DejaVu Sans Mono',consolas,'Courier New',monospace\">Evaluated <span style=\"color: #008080; text-decoration-color: #008080; font-weight: bold\">13</span> of <span style=\"color: #008080; text-decoration-color: #008080; font-weight: bold\">50</span> examples\n",
       "</pre>\n"
      ],
      "text/plain": [
       "Evaluated \u001b[1;36m13\u001b[0m of \u001b[1;36m50\u001b[0m examples\n"
      ]
     },
     "metadata": {},
     "output_type": "display_data"
    },
    {
     "data": {
      "text/html": [
       "<pre style=\"white-space:pre;overflow-x:auto;line-height:normal;font-family:Menlo,'DejaVu Sans Mono',consolas,'Courier New',monospace\">Evaluated <span style=\"color: #008080; text-decoration-color: #008080; font-weight: bold\">14</span> of <span style=\"color: #008080; text-decoration-color: #008080; font-weight: bold\">50</span> examples\n",
       "</pre>\n"
      ],
      "text/plain": [
       "Evaluated \u001b[1;36m14\u001b[0m of \u001b[1;36m50\u001b[0m examples\n"
      ]
     },
     "metadata": {},
     "output_type": "display_data"
    },
    {
     "data": {
      "text/html": [
       "<pre style=\"white-space:pre;overflow-x:auto;line-height:normal;font-family:Menlo,'DejaVu Sans Mono',consolas,'Courier New',monospace\">Evaluated <span style=\"color: #008080; text-decoration-color: #008080; font-weight: bold\">15</span> of <span style=\"color: #008080; text-decoration-color: #008080; font-weight: bold\">50</span> examples\n",
       "</pre>\n"
      ],
      "text/plain": [
       "Evaluated \u001b[1;36m15\u001b[0m of \u001b[1;36m50\u001b[0m examples\n"
      ]
     },
     "metadata": {},
     "output_type": "display_data"
    },
    {
     "data": {
      "text/html": [
       "<pre style=\"white-space:pre;overflow-x:auto;line-height:normal;font-family:Menlo,'DejaVu Sans Mono',consolas,'Courier New',monospace\">Evaluated <span style=\"color: #008080; text-decoration-color: #008080; font-weight: bold\">16</span> of <span style=\"color: #008080; text-decoration-color: #008080; font-weight: bold\">50</span> examples\n",
       "</pre>\n"
      ],
      "text/plain": [
       "Evaluated \u001b[1;36m16\u001b[0m of \u001b[1;36m50\u001b[0m examples\n"
      ]
     },
     "metadata": {},
     "output_type": "display_data"
    },
    {
     "data": {
      "text/html": [
       "<pre style=\"white-space:pre;overflow-x:auto;line-height:normal;font-family:Menlo,'DejaVu Sans Mono',consolas,'Courier New',monospace\">Evaluated <span style=\"color: #008080; text-decoration-color: #008080; font-weight: bold\">17</span> of <span style=\"color: #008080; text-decoration-color: #008080; font-weight: bold\">50</span> examples\n",
       "</pre>\n"
      ],
      "text/plain": [
       "Evaluated \u001b[1;36m17\u001b[0m of \u001b[1;36m50\u001b[0m examples\n"
      ]
     },
     "metadata": {},
     "output_type": "display_data"
    },
    {
     "data": {
      "text/html": [
       "<pre style=\"white-space:pre;overflow-x:auto;line-height:normal;font-family:Menlo,'DejaVu Sans Mono',consolas,'Courier New',monospace\">Evaluated <span style=\"color: #008080; text-decoration-color: #008080; font-weight: bold\">18</span> of <span style=\"color: #008080; text-decoration-color: #008080; font-weight: bold\">50</span> examples\n",
       "</pre>\n"
      ],
      "text/plain": [
       "Evaluated \u001b[1;36m18\u001b[0m of \u001b[1;36m50\u001b[0m examples\n"
      ]
     },
     "metadata": {},
     "output_type": "display_data"
    },
    {
     "data": {
      "text/html": [
       "<pre style=\"white-space:pre;overflow-x:auto;line-height:normal;font-family:Menlo,'DejaVu Sans Mono',consolas,'Courier New',monospace\">Evaluated <span style=\"color: #008080; text-decoration-color: #008080; font-weight: bold\">19</span> of <span style=\"color: #008080; text-decoration-color: #008080; font-weight: bold\">50</span> examples\n",
       "</pre>\n"
      ],
      "text/plain": [
       "Evaluated \u001b[1;36m19\u001b[0m of \u001b[1;36m50\u001b[0m examples\n"
      ]
     },
     "metadata": {},
     "output_type": "display_data"
    },
    {
     "data": {
      "text/html": [
       "<pre style=\"white-space:pre;overflow-x:auto;line-height:normal;font-family:Menlo,'DejaVu Sans Mono',consolas,'Courier New',monospace\">Evaluated <span style=\"color: #008080; text-decoration-color: #008080; font-weight: bold\">20</span> of <span style=\"color: #008080; text-decoration-color: #008080; font-weight: bold\">50</span> examples\n",
       "</pre>\n"
      ],
      "text/plain": [
       "Evaluated \u001b[1;36m20\u001b[0m of \u001b[1;36m50\u001b[0m examples\n"
      ]
     },
     "metadata": {},
     "output_type": "display_data"
    },
    {
     "data": {
      "text/html": [
       "<pre style=\"white-space:pre;overflow-x:auto;line-height:normal;font-family:Menlo,'DejaVu Sans Mono',consolas,'Courier New',monospace\">Evaluated <span style=\"color: #008080; text-decoration-color: #008080; font-weight: bold\">21</span> of <span style=\"color: #008080; text-decoration-color: #008080; font-weight: bold\">50</span> examples\n",
       "</pre>\n"
      ],
      "text/plain": [
       "Evaluated \u001b[1;36m21\u001b[0m of \u001b[1;36m50\u001b[0m examples\n"
      ]
     },
     "metadata": {},
     "output_type": "display_data"
    },
    {
     "data": {
      "text/html": [
       "<pre style=\"white-space:pre;overflow-x:auto;line-height:normal;font-family:Menlo,'DejaVu Sans Mono',consolas,'Courier New',monospace\">Evaluated <span style=\"color: #008080; text-decoration-color: #008080; font-weight: bold\">22</span> of <span style=\"color: #008080; text-decoration-color: #008080; font-weight: bold\">50</span> examples\n",
       "</pre>\n"
      ],
      "text/plain": [
       "Evaluated \u001b[1;36m22\u001b[0m of \u001b[1;36m50\u001b[0m examples\n"
      ]
     },
     "metadata": {},
     "output_type": "display_data"
    },
    {
     "data": {
      "text/html": [
       "<pre style=\"white-space:pre;overflow-x:auto;line-height:normal;font-family:Menlo,'DejaVu Sans Mono',consolas,'Courier New',monospace\">Evaluated <span style=\"color: #008080; text-decoration-color: #008080; font-weight: bold\">23</span> of <span style=\"color: #008080; text-decoration-color: #008080; font-weight: bold\">50</span> examples\n",
       "</pre>\n"
      ],
      "text/plain": [
       "Evaluated \u001b[1;36m23\u001b[0m of \u001b[1;36m50\u001b[0m examples\n"
      ]
     },
     "metadata": {},
     "output_type": "display_data"
    },
    {
     "data": {
      "text/html": [
       "<pre style=\"white-space:pre;overflow-x:auto;line-height:normal;font-family:Menlo,'DejaVu Sans Mono',consolas,'Courier New',monospace\">Evaluated <span style=\"color: #008080; text-decoration-color: #008080; font-weight: bold\">24</span> of <span style=\"color: #008080; text-decoration-color: #008080; font-weight: bold\">50</span> examples\n",
       "</pre>\n"
      ],
      "text/plain": [
       "Evaluated \u001b[1;36m24\u001b[0m of \u001b[1;36m50\u001b[0m examples\n"
      ]
     },
     "metadata": {},
     "output_type": "display_data"
    },
    {
     "data": {
      "text/html": [
       "<pre style=\"white-space:pre;overflow-x:auto;line-height:normal;font-family:Menlo,'DejaVu Sans Mono',consolas,'Courier New',monospace\">Evaluated <span style=\"color: #008080; text-decoration-color: #008080; font-weight: bold\">25</span> of <span style=\"color: #008080; text-decoration-color: #008080; font-weight: bold\">50</span> examples\n",
       "</pre>\n"
      ],
      "text/plain": [
       "Evaluated \u001b[1;36m25\u001b[0m of \u001b[1;36m50\u001b[0m examples\n"
      ]
     },
     "metadata": {},
     "output_type": "display_data"
    },
    {
     "data": {
      "text/html": [
       "<pre style=\"white-space:pre;overflow-x:auto;line-height:normal;font-family:Menlo,'DejaVu Sans Mono',consolas,'Courier New',monospace\">Evaluated <span style=\"color: #008080; text-decoration-color: #008080; font-weight: bold\">26</span> of <span style=\"color: #008080; text-decoration-color: #008080; font-weight: bold\">50</span> examples\n",
       "</pre>\n"
      ],
      "text/plain": [
       "Evaluated \u001b[1;36m26\u001b[0m of \u001b[1;36m50\u001b[0m examples\n"
      ]
     },
     "metadata": {},
     "output_type": "display_data"
    },
    {
     "data": {
      "text/html": [
       "<pre style=\"white-space:pre;overflow-x:auto;line-height:normal;font-family:Menlo,'DejaVu Sans Mono',consolas,'Courier New',monospace\">Evaluated <span style=\"color: #008080; text-decoration-color: #008080; font-weight: bold\">27</span> of <span style=\"color: #008080; text-decoration-color: #008080; font-weight: bold\">50</span> examples\n",
       "</pre>\n"
      ],
      "text/plain": [
       "Evaluated \u001b[1;36m27\u001b[0m of \u001b[1;36m50\u001b[0m examples\n"
      ]
     },
     "metadata": {},
     "output_type": "display_data"
    },
    {
     "data": {
      "text/html": [
       "<pre style=\"white-space:pre;overflow-x:auto;line-height:normal;font-family:Menlo,'DejaVu Sans Mono',consolas,'Courier New',monospace\">Evaluated <span style=\"color: #008080; text-decoration-color: #008080; font-weight: bold\">28</span> of <span style=\"color: #008080; text-decoration-color: #008080; font-weight: bold\">50</span> examples\n",
       "</pre>\n"
      ],
      "text/plain": [
       "Evaluated \u001b[1;36m28\u001b[0m of \u001b[1;36m50\u001b[0m examples\n"
      ]
     },
     "metadata": {},
     "output_type": "display_data"
    },
    {
     "data": {
      "text/html": [
       "<pre style=\"white-space:pre;overflow-x:auto;line-height:normal;font-family:Menlo,'DejaVu Sans Mono',consolas,'Courier New',monospace\">Evaluated <span style=\"color: #008080; text-decoration-color: #008080; font-weight: bold\">29</span> of <span style=\"color: #008080; text-decoration-color: #008080; font-weight: bold\">50</span> examples\n",
       "</pre>\n"
      ],
      "text/plain": [
       "Evaluated \u001b[1;36m29\u001b[0m of \u001b[1;36m50\u001b[0m examples\n"
      ]
     },
     "metadata": {},
     "output_type": "display_data"
    },
    {
     "data": {
      "text/html": [
       "<pre style=\"white-space:pre;overflow-x:auto;line-height:normal;font-family:Menlo,'DejaVu Sans Mono',consolas,'Courier New',monospace\">Evaluated <span style=\"color: #008080; text-decoration-color: #008080; font-weight: bold\">30</span> of <span style=\"color: #008080; text-decoration-color: #008080; font-weight: bold\">50</span> examples\n",
       "</pre>\n"
      ],
      "text/plain": [
       "Evaluated \u001b[1;36m30\u001b[0m of \u001b[1;36m50\u001b[0m examples\n"
      ]
     },
     "metadata": {},
     "output_type": "display_data"
    },
    {
     "data": {
      "text/html": [
       "<pre style=\"white-space:pre;overflow-x:auto;line-height:normal;font-family:Menlo,'DejaVu Sans Mono',consolas,'Courier New',monospace\">Evaluated <span style=\"color: #008080; text-decoration-color: #008080; font-weight: bold\">31</span> of <span style=\"color: #008080; text-decoration-color: #008080; font-weight: bold\">50</span> examples\n",
       "</pre>\n"
      ],
      "text/plain": [
       "Evaluated \u001b[1;36m31\u001b[0m of \u001b[1;36m50\u001b[0m examples\n"
      ]
     },
     "metadata": {},
     "output_type": "display_data"
    },
    {
     "data": {
      "text/html": [
       "<pre style=\"white-space:pre;overflow-x:auto;line-height:normal;font-family:Menlo,'DejaVu Sans Mono',consolas,'Courier New',monospace\">Evaluated <span style=\"color: #008080; text-decoration-color: #008080; font-weight: bold\">32</span> of <span style=\"color: #008080; text-decoration-color: #008080; font-weight: bold\">50</span> examples\n",
       "</pre>\n"
      ],
      "text/plain": [
       "Evaluated \u001b[1;36m32\u001b[0m of \u001b[1;36m50\u001b[0m examples\n"
      ]
     },
     "metadata": {},
     "output_type": "display_data"
    },
    {
     "data": {
      "text/html": [
       "<pre style=\"white-space:pre;overflow-x:auto;line-height:normal;font-family:Menlo,'DejaVu Sans Mono',consolas,'Courier New',monospace\">Evaluated <span style=\"color: #008080; text-decoration-color: #008080; font-weight: bold\">33</span> of <span style=\"color: #008080; text-decoration-color: #008080; font-weight: bold\">50</span> examples\n",
       "</pre>\n"
      ],
      "text/plain": [
       "Evaluated \u001b[1;36m33\u001b[0m of \u001b[1;36m50\u001b[0m examples\n"
      ]
     },
     "metadata": {},
     "output_type": "display_data"
    },
    {
     "data": {
      "text/html": [
       "<pre style=\"white-space:pre;overflow-x:auto;line-height:normal;font-family:Menlo,'DejaVu Sans Mono',consolas,'Courier New',monospace\">Evaluated <span style=\"color: #008080; text-decoration-color: #008080; font-weight: bold\">34</span> of <span style=\"color: #008080; text-decoration-color: #008080; font-weight: bold\">50</span> examples\n",
       "</pre>\n"
      ],
      "text/plain": [
       "Evaluated \u001b[1;36m34\u001b[0m of \u001b[1;36m50\u001b[0m examples\n"
      ]
     },
     "metadata": {},
     "output_type": "display_data"
    },
    {
     "data": {
      "text/html": [
       "<pre style=\"white-space:pre;overflow-x:auto;line-height:normal;font-family:Menlo,'DejaVu Sans Mono',consolas,'Courier New',monospace\">Evaluated <span style=\"color: #008080; text-decoration-color: #008080; font-weight: bold\">35</span> of <span style=\"color: #008080; text-decoration-color: #008080; font-weight: bold\">50</span> examples\n",
       "</pre>\n"
      ],
      "text/plain": [
       "Evaluated \u001b[1;36m35\u001b[0m of \u001b[1;36m50\u001b[0m examples\n"
      ]
     },
     "metadata": {},
     "output_type": "display_data"
    },
    {
     "data": {
      "text/html": [
       "<pre style=\"white-space:pre;overflow-x:auto;line-height:normal;font-family:Menlo,'DejaVu Sans Mono',consolas,'Courier New',monospace\">Evaluated <span style=\"color: #008080; text-decoration-color: #008080; font-weight: bold\">36</span> of <span style=\"color: #008080; text-decoration-color: #008080; font-weight: bold\">50</span> examples\n",
       "</pre>\n"
      ],
      "text/plain": [
       "Evaluated \u001b[1;36m36\u001b[0m of \u001b[1;36m50\u001b[0m examples\n"
      ]
     },
     "metadata": {},
     "output_type": "display_data"
    },
    {
     "data": {
      "text/html": [
       "<pre style=\"white-space:pre;overflow-x:auto;line-height:normal;font-family:Menlo,'DejaVu Sans Mono',consolas,'Courier New',monospace\">Evaluated <span style=\"color: #008080; text-decoration-color: #008080; font-weight: bold\">37</span> of <span style=\"color: #008080; text-decoration-color: #008080; font-weight: bold\">50</span> examples\n",
       "</pre>\n"
      ],
      "text/plain": [
       "Evaluated \u001b[1;36m37\u001b[0m of \u001b[1;36m50\u001b[0m examples\n"
      ]
     },
     "metadata": {},
     "output_type": "display_data"
    },
    {
     "data": {
      "text/html": [
       "<pre style=\"white-space:pre;overflow-x:auto;line-height:normal;font-family:Menlo,'DejaVu Sans Mono',consolas,'Courier New',monospace\">Evaluated <span style=\"color: #008080; text-decoration-color: #008080; font-weight: bold\">38</span> of <span style=\"color: #008080; text-decoration-color: #008080; font-weight: bold\">50</span> examples\n",
       "</pre>\n"
      ],
      "text/plain": [
       "Evaluated \u001b[1;36m38\u001b[0m of \u001b[1;36m50\u001b[0m examples\n"
      ]
     },
     "metadata": {},
     "output_type": "display_data"
    },
    {
     "data": {
      "text/html": [
       "<pre style=\"white-space:pre;overflow-x:auto;line-height:normal;font-family:Menlo,'DejaVu Sans Mono',consolas,'Courier New',monospace\">Evaluated <span style=\"color: #008080; text-decoration-color: #008080; font-weight: bold\">39</span> of <span style=\"color: #008080; text-decoration-color: #008080; font-weight: bold\">50</span> examples\n",
       "</pre>\n"
      ],
      "text/plain": [
       "Evaluated \u001b[1;36m39\u001b[0m of \u001b[1;36m50\u001b[0m examples\n"
      ]
     },
     "metadata": {},
     "output_type": "display_data"
    },
    {
     "data": {
      "text/html": [
       "<pre style=\"white-space:pre;overflow-x:auto;line-height:normal;font-family:Menlo,'DejaVu Sans Mono',consolas,'Courier New',monospace\">Evaluated <span style=\"color: #008080; text-decoration-color: #008080; font-weight: bold\">40</span> of <span style=\"color: #008080; text-decoration-color: #008080; font-weight: bold\">50</span> examples\n",
       "</pre>\n"
      ],
      "text/plain": [
       "Evaluated \u001b[1;36m40\u001b[0m of \u001b[1;36m50\u001b[0m examples\n"
      ]
     },
     "metadata": {},
     "output_type": "display_data"
    },
    {
     "data": {
      "text/html": [
       "<pre style=\"white-space:pre;overflow-x:auto;line-height:normal;font-family:Menlo,'DejaVu Sans Mono',consolas,'Courier New',monospace\">Evaluated <span style=\"color: #008080; text-decoration-color: #008080; font-weight: bold\">41</span> of <span style=\"color: #008080; text-decoration-color: #008080; font-weight: bold\">50</span> examples\n",
       "</pre>\n"
      ],
      "text/plain": [
       "Evaluated \u001b[1;36m41\u001b[0m of \u001b[1;36m50\u001b[0m examples\n"
      ]
     },
     "metadata": {},
     "output_type": "display_data"
    },
    {
     "data": {
      "text/html": [
       "<pre style=\"white-space:pre;overflow-x:auto;line-height:normal;font-family:Menlo,'DejaVu Sans Mono',consolas,'Courier New',monospace\">Evaluated <span style=\"color: #008080; text-decoration-color: #008080; font-weight: bold\">42</span> of <span style=\"color: #008080; text-decoration-color: #008080; font-weight: bold\">50</span> examples\n",
       "</pre>\n"
      ],
      "text/plain": [
       "Evaluated \u001b[1;36m42\u001b[0m of \u001b[1;36m50\u001b[0m examples\n"
      ]
     },
     "metadata": {},
     "output_type": "display_data"
    },
    {
     "data": {
      "text/html": [
       "<pre style=\"white-space:pre;overflow-x:auto;line-height:normal;font-family:Menlo,'DejaVu Sans Mono',consolas,'Courier New',monospace\">Evaluated <span style=\"color: #008080; text-decoration-color: #008080; font-weight: bold\">43</span> of <span style=\"color: #008080; text-decoration-color: #008080; font-weight: bold\">50</span> examples\n",
       "</pre>\n"
      ],
      "text/plain": [
       "Evaluated \u001b[1;36m43\u001b[0m of \u001b[1;36m50\u001b[0m examples\n"
      ]
     },
     "metadata": {},
     "output_type": "display_data"
    },
    {
     "data": {
      "text/html": [
       "<pre style=\"white-space:pre;overflow-x:auto;line-height:normal;font-family:Menlo,'DejaVu Sans Mono',consolas,'Courier New',monospace\">Evaluated <span style=\"color: #008080; text-decoration-color: #008080; font-weight: bold\">44</span> of <span style=\"color: #008080; text-decoration-color: #008080; font-weight: bold\">50</span> examples\n",
       "</pre>\n"
      ],
      "text/plain": [
       "Evaluated \u001b[1;36m44\u001b[0m of \u001b[1;36m50\u001b[0m examples\n"
      ]
     },
     "metadata": {},
     "output_type": "display_data"
    },
    {
     "data": {
      "text/html": [
       "<pre style=\"white-space:pre;overflow-x:auto;line-height:normal;font-family:Menlo,'DejaVu Sans Mono',consolas,'Courier New',monospace\">Evaluated <span style=\"color: #008080; text-decoration-color: #008080; font-weight: bold\">45</span> of <span style=\"color: #008080; text-decoration-color: #008080; font-weight: bold\">50</span> examples\n",
       "</pre>\n"
      ],
      "text/plain": [
       "Evaluated \u001b[1;36m45\u001b[0m of \u001b[1;36m50\u001b[0m examples\n"
      ]
     },
     "metadata": {},
     "output_type": "display_data"
    },
    {
     "data": {
      "text/html": [
       "<pre style=\"white-space:pre;overflow-x:auto;line-height:normal;font-family:Menlo,'DejaVu Sans Mono',consolas,'Courier New',monospace\">Evaluated <span style=\"color: #008080; text-decoration-color: #008080; font-weight: bold\">46</span> of <span style=\"color: #008080; text-decoration-color: #008080; font-weight: bold\">50</span> examples\n",
       "</pre>\n"
      ],
      "text/plain": [
       "Evaluated \u001b[1;36m46\u001b[0m of \u001b[1;36m50\u001b[0m examples\n"
      ]
     },
     "metadata": {},
     "output_type": "display_data"
    },
    {
     "data": {
      "text/html": [
       "<pre style=\"white-space:pre;overflow-x:auto;line-height:normal;font-family:Menlo,'DejaVu Sans Mono',consolas,'Courier New',monospace\">Evaluated <span style=\"color: #008080; text-decoration-color: #008080; font-weight: bold\">47</span> of <span style=\"color: #008080; text-decoration-color: #008080; font-weight: bold\">50</span> examples\n",
       "</pre>\n"
      ],
      "text/plain": [
       "Evaluated \u001b[1;36m47\u001b[0m of \u001b[1;36m50\u001b[0m examples\n"
      ]
     },
     "metadata": {},
     "output_type": "display_data"
    },
    {
     "data": {
      "text/html": [
       "<pre style=\"white-space:pre;overflow-x:auto;line-height:normal;font-family:Menlo,'DejaVu Sans Mono',consolas,'Courier New',monospace\">Evaluated <span style=\"color: #008080; text-decoration-color: #008080; font-weight: bold\">48</span> of <span style=\"color: #008080; text-decoration-color: #008080; font-weight: bold\">50</span> examples\n",
       "</pre>\n"
      ],
      "text/plain": [
       "Evaluated \u001b[1;36m48\u001b[0m of \u001b[1;36m50\u001b[0m examples\n"
      ]
     },
     "metadata": {},
     "output_type": "display_data"
    },
    {
     "data": {
      "text/html": [
       "<pre style=\"white-space:pre;overflow-x:auto;line-height:normal;font-family:Menlo,'DejaVu Sans Mono',consolas,'Courier New',monospace\">Evaluated <span style=\"color: #008080; text-decoration-color: #008080; font-weight: bold\">49</span> of <span style=\"color: #008080; text-decoration-color: #008080; font-weight: bold\">50</span> examples\n",
       "</pre>\n"
      ],
      "text/plain": [
       "Evaluated \u001b[1;36m49\u001b[0m of \u001b[1;36m50\u001b[0m examples\n"
      ]
     },
     "metadata": {},
     "output_type": "display_data"
    },
    {
     "data": {
      "text/html": [
       "<pre style=\"white-space:pre;overflow-x:auto;line-height:normal;font-family:Menlo,'DejaVu Sans Mono',consolas,'Courier New',monospace\">Evaluated <span style=\"color: #008080; text-decoration-color: #008080; font-weight: bold\">50</span> of <span style=\"color: #008080; text-decoration-color: #008080; font-weight: bold\">50</span> examples\n",
       "</pre>\n"
      ],
      "text/plain": [
       "Evaluated \u001b[1;36m50\u001b[0m of \u001b[1;36m50\u001b[0m examples\n"
      ]
     },
     "metadata": {},
     "output_type": "display_data"
    },
    {
     "data": {
      "text/html": [
       "<pre style=\"white-space:pre;overflow-x:auto;line-height:normal;font-family:Menlo,'DejaVu Sans Mono',consolas,'Courier New',monospace\">Evaluation summary\n",
       "<span style=\"font-weight: bold\">{</span>\n",
       "    <span style=\"color: #008000; text-decoration-color: #008000\">'eval_model'</span>: <span style=\"font-weight: bold\">{</span>\n",
       "        <span style=\"color: #008000; text-decoration-color: #008000\">'retriever'</span>: <span style=\"font-weight: bold\">{</span>\n",
       "            <span style=\"color: #008000; text-decoration-color: #008000\">'context_recall'</span>: <span style=\"font-weight: bold\">{</span><span style=\"color: #008000; text-decoration-color: #008000\">'mean'</span>: <span style=\"color: #008080; text-decoration-color: #008080; font-weight: bold\">0.33885714285714286</span><span style=\"font-weight: bold\">}</span>,\n",
       "            <span style=\"color: #008000; text-decoration-color: #008000\">'context_conciseness'</span>: <span style=\"font-weight: bold\">{</span><span style=\"color: #008000; text-decoration-color: #008000\">'mean'</span>: <span style=\"color: #008080; text-decoration-color: #008080; font-weight: bold\">0.08497990012276926</span><span style=\"font-weight: bold\">}</span>\n",
       "        <span style=\"font-weight: bold\">}</span>,\n",
       "        <span style=\"color: #008000; text-decoration-color: #008000\">'llm'</span>: <span style=\"font-weight: bold\">{</span><span style=\"color: #008000; text-decoration-color: #008000\">'answer_relevance'</span>: <span style=\"font-weight: bold\">{</span><span style=\"color: #008000; text-decoration-color: #008000\">'mean'</span>: <span style=\"color: #008080; text-decoration-color: #008080; font-weight: bold\">0.9450984347344406</span><span style=\"font-weight: bold\">}</span>, <span style=\"color: #008000; text-decoration-color: #008000\">'faithfulness'</span>: <span style=\"font-weight: bold\">{</span><span style=\"color: #008000; text-decoration-color: #008000\">'mean'</span>: <span style=\"color: #008080; text-decoration-color: #008080; font-weight: bold\">0.8577380952380952</span><span style=\"font-weight: bold\">}}</span>,\n",
       "        <span style=\"color: #008000; text-decoration-color: #008000\">'end-to-end'</span>: <span style=\"font-weight: bold\">{</span>\n",
       "            <span style=\"color: #008000; text-decoration-color: #008000\">'answer_semantic_similarity'</span>: <span style=\"font-weight: bold\">{</span><span style=\"color: #008000; text-decoration-color: #008000\">'mean'</span>: <span style=\"color: #008080; text-decoration-color: #008080; font-weight: bold\">0.8811965976718965</span><span style=\"font-weight: bold\">}</span>,\n",
       "            <span style=\"color: #008000; text-decoration-color: #008000\">'answer_conciseness'</span>: <span style=\"font-weight: bold\">{</span><span style=\"color: #008000; text-decoration-color: #008000\">'mean'</span>: <span style=\"color: #008080; text-decoration-color: #008080; font-weight: bold\">0.7188642481234245</span><span style=\"font-weight: bold\">}</span>\n",
       "        <span style=\"font-weight: bold\">}</span>\n",
       "    <span style=\"font-weight: bold\">}</span>,\n",
       "    <span style=\"color: #008000; text-decoration-color: #008000\">'model_latency'</span>: <span style=\"font-weight: bold\">{</span><span style=\"color: #008000; text-decoration-color: #008000\">'mean'</span>: <span style=\"color: #008080; text-decoration-color: #008080; font-weight: bold\">6.661476926803589</span><span style=\"font-weight: bold\">}</span>\n",
       "<span style=\"font-weight: bold\">}</span>\n",
       "</pre>\n"
      ],
      "text/plain": [
       "Evaluation summary\n",
       "\u001b[1m{\u001b[0m\n",
       "    \u001b[32m'eval_model'\u001b[0m: \u001b[1m{\u001b[0m\n",
       "        \u001b[32m'retriever'\u001b[0m: \u001b[1m{\u001b[0m\n",
       "            \u001b[32m'context_recall'\u001b[0m: \u001b[1m{\u001b[0m\u001b[32m'mean'\u001b[0m: \u001b[1;36m0.33885714285714286\u001b[0m\u001b[1m}\u001b[0m,\n",
       "            \u001b[32m'context_conciseness'\u001b[0m: \u001b[1m{\u001b[0m\u001b[32m'mean'\u001b[0m: \u001b[1;36m0.08497990012276926\u001b[0m\u001b[1m}\u001b[0m\n",
       "        \u001b[1m}\u001b[0m,\n",
       "        \u001b[32m'llm'\u001b[0m: \u001b[1m{\u001b[0m\u001b[32m'answer_relevance'\u001b[0m: \u001b[1m{\u001b[0m\u001b[32m'mean'\u001b[0m: \u001b[1;36m0.9450984347344406\u001b[0m\u001b[1m}\u001b[0m, \u001b[32m'faithfulness'\u001b[0m: \u001b[1m{\u001b[0m\u001b[32m'mean'\u001b[0m: \u001b[1;36m0.8577380952380952\u001b[0m\u001b[1m}\u001b[0m\u001b[1m}\u001b[0m,\n",
       "        \u001b[32m'end-to-end'\u001b[0m: \u001b[1m{\u001b[0m\n",
       "            \u001b[32m'answer_semantic_similarity'\u001b[0m: \u001b[1m{\u001b[0m\u001b[32m'mean'\u001b[0m: \u001b[1;36m0.8811965976718965\u001b[0m\u001b[1m}\u001b[0m,\n",
       "            \u001b[32m'answer_conciseness'\u001b[0m: \u001b[1m{\u001b[0m\u001b[32m'mean'\u001b[0m: \u001b[1;36m0.7188642481234245\u001b[0m\u001b[1m}\u001b[0m\n",
       "        \u001b[1m}\u001b[0m\n",
       "    \u001b[1m}\u001b[0m,\n",
       "    \u001b[32m'model_latency'\u001b[0m: \u001b[1m{\u001b[0m\u001b[32m'mean'\u001b[0m: \u001b[1;36m6.661476926803589\u001b[0m\u001b[1m}\u001b[0m\n",
       "\u001b[1m}\u001b[0m\n"
      ]
     },
     "metadata": {},
     "output_type": "display_data"
    },
    {
     "name": "stdout",
     "output_type": "stream",
     "text": [
      "🍩 https://wandb.ai/bleu-builders/op-ai-tools/r/call/054987ad-f50c-49be-a52d-a507849907f4\n"
     ]
    }
   ],
   "source": [
    "chat_pars = {\n",
    "    \"model\": chat_models[1],\n",
    "    \"temperature\": 0,\n",
    "    #\"max_tokens\": None,\n",
    "    #\"timeout\": None,\n",
    "    \"max_retries\": 2\n",
    "}\n",
    "\n",
    "prompt_template = f\"\"\"Answer politely the question at the end, using only the following context. The user is not necessarily a specialist, so please avoid jargon and explain any technical terms.\n",
    "\n",
    "<context>\n",
    "{{context}} \n",
    "</context>\n",
    "\n",
    "Question: {{question}}\n",
    "\"\"\"\n",
    "\n",
    "rag = RAGModel(\n",
    "    dbs_name = [dbs[0]],\n",
    "    embeddings_name = embedding_models[2],\n",
    "    chat_pars=chat_pars,\n",
    "    prompt_template = prompt_template,\n",
    "    retriever_pars = {\n",
    "        \"search_kwargs\" : {'k': 1}\n",
    "    },\n",
    "    vectorstore = 'faiss'\n",
    ")\n",
    "\n",
    "run_rag_evaluation(rag)"
   ]
  },
  {
   "cell_type": "code",
   "execution_count": null,
   "metadata": {},
   "outputs": [],
   "source": []
  },
  {
   "cell_type": "code",
   "execution_count": null,
   "metadata": {},
   "outputs": [],
   "source": []
  }
 ],
 "metadata": {
  "kernelspec": {
   "display_name": "bleu-chatbot",
   "language": "python",
   "name": "python3"
  },
  "language_info": {
   "codemirror_mode": {
    "name": "ipython",
    "version": 3
   },
   "file_extension": ".py",
   "mimetype": "text/x-python",
   "name": "python",
   "nbconvert_exporter": "python",
   "pygments_lexer": "ipython3",
   "version": "3.12.3"
  }
 },
 "nbformat": 4,
 "nbformat_minor": 2
}

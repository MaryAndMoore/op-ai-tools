{
 "cells": [
  {
   "cell_type": "markdown",
   "metadata": {},
   "source": [
    "# First vectorscore test"
   ]
  },
  {
   "cell_type": "code",
   "execution_count": 1,
   "metadata": {},
   "outputs": [],
   "source": [
    "# extracted from optimism governance docs\n",
    "db_path = \"../../data/001-initial-dataset-governance-docs/db.faiss\"\n",
    "\n",
    "# openai api key\n",
    "openai_api_key = input(\"Enter the OpenAI API key: \")"
   ]
  },
  {
   "cell_type": "code",
   "execution_count": 2,
   "metadata": {},
   "outputs": [],
   "source": [
    "model_embeddings = \"text-embedding-3-small\"\n",
    "model_chat = \"gpt-3.5-turbo-0125\""
   ]
  },
  {
   "cell_type": "code",
   "execution_count": 3,
   "metadata": {},
   "outputs": [],
   "source": [
    "# imports\n",
    "from langchain_community.vectorstores import FAISS\n",
    "from langchain_openai import OpenAIEmbeddings\n",
    "\n",
    "from langchain_openai import ChatOpenAI\n",
    "from langchain_core.prompts import ChatPromptTemplate"
   ]
  },
  {
   "cell_type": "code",
   "execution_count": 4,
   "metadata": {},
   "outputs": [],
   "source": [
    "# load the db\n",
    "embeddings = OpenAIEmbeddings(model=model_embeddings, openai_api_key=openai_api_key)\n",
    "db = FAISS.load_local(db_path, embeddings, allow_dangerous_deserialization=True)\n",
    "retriever = db.as_retriever()"
   ]
  },
  {
   "cell_type": "code",
   "execution_count": 5,
   "metadata": {},
   "outputs": [],
   "source": [
    "# select the model\n",
    "llm = ChatOpenAI(\n",
    "    model = model_chat,\n",
    "    temperature = 0,\n",
    "    max_tokens = None,\n",
    "    timeout = None,\n",
    "    max_retries = 2,\n",
    "    api_key = openai_api_key\n",
    ")"
   ]
  },
  {
   "cell_type": "code",
   "execution_count": 6,
   "metadata": {},
   "outputs": [],
   "source": [
    "# create the template for interactions\n",
    "def answer_template(language=\"english\"):\n",
    "    return f\"\"\"Answer politely the question at the end, using only the following context. The user is not necessarily a specialist, so please avoid jargon and explain any technical terms.\n",
    "\n",
    "<context>\n",
    "{{context}} \n",
    "</context>\n",
    "\n",
    "Question: {{question}}\n",
    "\"\"\"\n",
    "\n",
    "prompt = ChatPromptTemplate.from_template(answer_template())\n",
    "\n",
    "chain = prompt | llm\n"
   ]
  },
  {
   "cell_type": "code",
   "execution_count": 7,
   "metadata": {},
   "outputs": [],
   "source": [
    "# the reformulation part\n",
    "def answer(query : str, context : str):\n",
    "    response = chain.invoke(\n",
    "        {\n",
    "            \"context\": context,\n",
    "            \"question\": query,\n",
    "        }\n",
    "    )\n",
    "\n",
    "    return response\n",
    "\n",
    "# all together\n",
    "def ask(query : str):\n",
    "    context = retriever.invoke(query)\n",
    "    \n",
    "    print(\"\\nAnswering question...\")\n",
    "    response = answer(query, str(context))\n",
    "    \n",
    "    display(response.content)\n",
    "\n",
    "    return context, response"
   ]
  },
  {
   "cell_type": "code",
   "execution_count": 8,
   "metadata": {},
   "outputs": [
    {
     "name": "stdout",
     "output_type": "stream",
     "text": [
      "\n",
      "Answering question...\n"
     ]
    },
    {
     "data": {
      "text/plain": [
       "'Optimism is a design philosophy and protocol that focuses on long-term sustainability and simplicity. It is an \"Optimistic Rollup,\" which means it is a blockchain that relies on the security of another blockchain, specifically Ethereum. It is developed with real-world constraints and user needs in mind, prioritizing practical solutions over theoretical perfection. Ultimately, Optimism exists to support the success of Ethereum.'"
      ]
     },
     "metadata": {},
     "output_type": "display_data"
    },
    {
     "data": {
      "text/plain": [
       "([Document(page_content=\"Optimism is in it for the long haul.\\nApplication developers need assurance that the platform they're building on will remain not only operational but competitive over long periods of time.\\nOptimism's design process is built around the idea of long-term sustainability and not taking shortcuts to scalability.\\nAt the end of the day, a scalable system means nothing without the ecosystem that sustains it.  \\nSustainability actively influences Optimism's protocol design in ways that go hand-in-hand with our philosophy of simplicity.\\nThe more complex a codebase, the more difficult it is for people outside of the core development team to actively contribute.\\nBy keeping our codebase simple we're able to build a bigger community of contributors who can help maintain the protocol long-term.\", metadata={'Address': 'protocol/1-design-philosophy.md <==', 'Header 2': 'Sustainability'}),\n",
       "  Document(page_content=\"Of course, none of this would be possible without a sense of optimism.\\nOur optimism about the Ethereum vision keeps this project moving forward.\\nWe believe in an optimistic future for Ethereum, a future where we get to redesign our relationships with the institutions that coordinate our lives.  \\nAlthough Optimism looks like a standalone blockchain, it's ultimately designed as an extension to Ethereum.\\nWe keep this in mind whenever we're creating new features or trying to simplify existing ones.\\nOptimism is as close to Ethereum as possible not only for pragmatic reasons, but because Optimism exists so that Ethereum can succeed.\\nWe hope that you can see the influence of this philosophy when looking at Optimism's design.\", metadata={'Address': 'protocol/1-design-philosophy.md <==', 'Header 2': 'Optimism'}),\n",
       "  Document(page_content=\"For all its idealism, the design process behind Optimism is ultimately driven by pragmatism.\\nThe core Optimism team has real-world constraints, the projects that build on Optimism have real-world needs, and the users that engage with Optimism have real-world problems.\\nOptimism's design philosophy prioritizes user and developer needs over theoretical perfection.\\nSometimes the best solution isn't the prettiest one.  \\nOptimism is also developed with the understanding that any core team will have limited areas of expertise.\\nOptimism is developed iteratively and strives to continuously pull feedback from users.\\nMany core Optimism features today (like [EVM Equivalence](https://medium.com/ethereum-optimism/introducing-evm-equivalence-5c2021deb306)) were only made possible by this iterative approach to protocol development.\", metadata={'Address': 'protocol/1-design-philosophy.md <==', 'Header 2': 'Pragmatism'}),\n",
       "  Document(page_content='Optimism is an \"Optimistic Rollup,\" which is basically just a fancy way of describing a blockchain that piggy-backs off of the security of another \"parent\" blockchain.\\nSpecifically, Optimistic Rollups take advantage of the consensus mechanism (like PoW or PoS) of their parent chain instead of providing their own.\\nIn OP Mainnet\\'s case this parent blockchain is Ethereum.  \\n<div align=\"center\">\\n<img width=\"400\" src=\"../../assets/docs/how-optimism-works/1.png\">\\n</div>', metadata={'Address': 'protocol/2-rollup-protocol.md <==', 'Header 2': 'Optimistic Rollups TL;DR'})],\n",
       " AIMessage(content='Optimism is a design philosophy and protocol that focuses on long-term sustainability and simplicity. It is an \"Optimistic Rollup,\" which means it is a blockchain that relies on the security of another blockchain, specifically Ethereum. It is developed with real-world constraints and user needs in mind, prioritizing practical solutions over theoretical perfection. Ultimately, Optimism exists to support the success of Ethereum.', response_metadata={'token_usage': {'completion_tokens': 79, 'prompt_tokens': 776, 'total_tokens': 855}, 'model_name': 'gpt-3.5-turbo-0125', 'system_fingerprint': None, 'finish_reason': 'stop', 'logprobs': None}, id='run-b3f90e50-bedc-4554-a04c-6b8ebd05c103-0', usage_metadata={'input_tokens': 776, 'output_tokens': 79, 'total_tokens': 855}))"
      ]
     },
     "execution_count": 8,
     "metadata": {},
     "output_type": "execute_result"
    }
   ],
   "source": [
    "ask(\"what is optimism?\")"
   ]
  },
  {
   "cell_type": "code",
   "execution_count": 19,
   "metadata": {},
   "outputs": [
    {
     "name": "stdout",
     "output_type": "stream",
     "text": [
      "\n",
      "Answering question...\n"
     ]
    },
    {
     "data": {
      "text/plain": [
       "'You can find the forum to discuss the Governance Fund by heading to the Optimism governance forum at https://gov.optimism.io/t/governance-fund-discussion-thread/213.'"
      ]
     },
     "metadata": {},
     "output_type": "display_data"
    },
    {
     "data": {
      "text/plain": [
       "([Document(page_content=\"If you can't find the content you're looking for you've got a few options to get extra help.\\nWe recommend first searching through this documentation (search bar at the top right).\\nIf you've already done this and come up short, you can try [asking us a question in Discord](https://discord-gateway.optimism.io), [checking the Help Center](https://help.optimism.io/hc/en-us), or [making an issue on GitHub](https://github.com/ethereum-optimism/community-hub/issues).\", metadata={'Address': 'developers/README.md <==', 'Header 2': \"Still don't know where to look?\"}),\n",
       "  Document(page_content='**`wannabe-NERD`** → `NERD-in-training` → `support-NERD`  \\n**To ensure that our support NERDs are only the highest quality nerds we have the following requirements before you can start a NERD trial**  \\n1. Fill in the [wannabe-NERD form](https://forms.gle/YCirMCzagW64BNLu7).\\nThis helps us know all our NERDs and their languages. L2 is global after all 🌍🌎🌏\\n[NERDs](https://forms.gle/YCirMCzagW64BNLu7)\\n1. Be in the Optimism Discord for at least 2 months.\\nWe need to know you are serious 👀\\n1.  Be actively offering support in the Discord for at least 2 months.\\nHow can you offer support:\\n- Answering questions that you know the answer to.\\n- Tagging the `support-nerds` to answer questions you don’t know the answer to.\\n- ⚠️Giving bad/incorrect/misleading answers to users instead of tagging the nerds *will count against you*.\\n- Reporting scams, bots or spam.\\n- Keeping the discord “clean” (channel hygiene)\\n- Asking users who post questions in general to post them in `user-support`, same for developer issues in `developer-support`\\n- Answering user questions **in a thread on their original message.**\\n- Steps to answer messages in Discord threads (iykyk)\\n1. First click on the three dots above the message\\n(don’t worry if yours does not have as many options)\\n1. Click Create Thread\\n1. Name the thread after the user problem\\n1. Make sure to tag the user and let them know to post any updates in the thread!  \\n- If you speak a second language, helping out in that language channel (if we have it) is fantastic ✨\\n1. Read the descriptions of all the channels. This will help you know what channels are for what.\\n1. Read the pinned messages. They are pinned for a reason 😌\\n1. Read the user support docs →\\n- Let us know if you find any broken links, outdated information or if you think there is something we should add!\\n- If you are reading it in any of the non-english supported translations, please let us know if you find anything wrong on [our CorwdIn](https://crowdin.com/project/optimism-help-center)! ([CrowdIn is our translation tool of choice](https://crowdin.com/project/optimism-help-center), let us know in the #translator Discord channel if you would like to become a translator. See the channel in #get-a-role).\\n[Optimism](https://help.optimism.io/hc/en-us)\\n1. Read the developer docs (if you are technical) →\\n- Report any:\\n- Incorrect/out of date information you find\\n- Broken links\\n[Optimism Docs | Optimism Docs](https://community.optimism.io/)', metadata={'Address': 'contribute/contribution-path/NERD-req.md <==', 'Header 2': 'Becoming a supNERD', 'Header 3': 'Step 1: `wannabe-NERD`'}),\n",
       "  Document(page_content='---\\ntitle: How do I get project support (marketing / integrations / etc.)?\\nlang: en-US\\n---  \\nWelcome! If you have not filled out the connect with [Optimism form](https://airtable.com/appQ2S9IatldkoNQw/pagyJSUyxJA2SQKO3/form) please do so prior to reading this.  \\nWe are excited for your deployment onto OP Mainnet!\\nYou will be welcomed by [the following metrics](https://dune.com/optimismfnd/Optimism) 📈📈 (up and to the right!), [a budding community](https://discord-gateway.optimism.io/) 🫂🫂, and some great exclusive [Telegram Channels](https://t.me/+Cb7q0a1YqItkZTRk) ⚙️⚙️ for builders.', metadata={'Address': 'biz/README.md <=='}),\n",
       "  Document(page_content='---\\ntitle: Governance Fund Overview\\nlang: en-US\\n---  \\n*[To discuss the Governance Fund, head to the Optimism governance forum](https://gov.optimism.io/t/governance-fund-discussion-thread/213)*.', metadata={'Address': 'governance/gov-fund.md <=='})],\n",
       " AIMessage(content='You can find the forum to discuss the Governance Fund by heading to the Optimism governance forum at https://gov.optimism.io/t/governance-fund-discussion-thread/213.', response_metadata={'token_usage': {'completion_tokens': 37, 'prompt_tokens': 1204, 'total_tokens': 1241}, 'model_name': 'gpt-3.5-turbo-0125', 'system_fingerprint': None, 'finish_reason': 'stop', 'logprobs': None}, id='run-f9507955-939f-4359-be81-a528723b9a7b-0', usage_metadata={'input_tokens': 1204, 'output_tokens': 37, 'total_tokens': 1241}))"
      ]
     },
     "execution_count": 19,
     "metadata": {},
     "output_type": "execute_result"
    }
   ],
   "source": [
    "ask(\"where can i find the forum?\")"
   ]
  },
  {
   "cell_type": "code",
   "execution_count": 9,
   "metadata": {},
   "outputs": [
    {
     "name": "stdout",
     "output_type": "stream",
     "text": [
      "\n",
      "Answering question...\n"
     ]
    },
    {
     "data": {
      "text/plain": [
       "'The latest proposals include the Developer Advisory Board Budget, Developer Advisory Board Ratification, Code of Conduct Council Budget, Code of Conduct Elections, Grants Council Operating Budget, Grants Council Elections - Builders, Grants Council Elections - Growth Experiments, Grants Council Elections - Metrics and Milestones, Intent Budgets, Chain Delegation Program, Ratification of the Law of Chains, Anticapture Commission, Security Council Vote #1, Security Council Vote #2, and Upgrade #2: Canyon Protocol Upgrade.'"
      ]
     },
     "metadata": {},
     "output_type": "display_data"
    },
    {
     "data": {
      "text/plain": [
       "([Document(page_content='- [Intent #1 Budget Proposal](https://vote.optimism.io/proposals/51738314696473345172141808043782330430064117614433447104828853768775712054864)\\n- [Intent #2 Budget Proposal](https://vote.optimism.io/proposals/32970701904870446614408373011942917680422376755229075190214017021915019093516)\\n- [Intent #3 Budget Proposal](https://vote.optimism.io/proposals/94365805422398770067924881378455503928423439630602149628781926844759467250082)\\n- [Intent #4 Budget Proposal](https://vote.optimism.io/proposals/103695324913424597802389181312722993037601032681914451632412140667432224173014)\\n- [Protocol Delegation Program Renewal](https://vote.optimism.io/proposals/64930538748268257621925093712454552173772860987977453334165023026835711650357)\\n- [Grants Council Elections - Builders](https://vote.optimism.io/proposals/2808108363564117434228597137832979672586627356483314020876637262618986508713)\\n- [Grants Council Elections - Growth Experiments](https://vote.optimism.io/proposals/103713749716503028671815481721039004389156473487450783632177114353117435138377)\\n- [Inflation Adjustment Proposal](https://vote.optimism.io/proposals/80982553847843251343725022866904947381762263529096361834044805234222094077710)\\n- [Foundation Budget Year 2](https://vote.optimism.io/proposals/29831001453379581627736734765818959389842109811221412662144194715522205098015)', metadata={'Address': 'governance/token-house-history.md <==', 'Header 2': 'History', 'Header 3': 'Reflection Period #3'}),\n",
       "  Document(page_content='---\\ntitle: Submitting Proposals\\nlang: en-US\\n---  \\n::: tip This information is here for your convenience  \\nThe source of truth for all governance related processes is the [Operating Manual](https://github.com/ethereum-optimism/OPerating-manual/blob/main/manual.md#proposal-process--components-of-a-valid-proposal).  \\n:::', metadata={'Address': 'governance/proposals.md <=='}),\n",
       "  Document(page_content='There are [other types of proposals](https://github.com/ethereum-optimism/OPerating-manual/blob/main/manual.md#valid-proposal-types) that you can submit.  \\nThere is no minimum holding requirement for submitting a proposal but all non-grant proposals must be approved by four delegates with sufficient voting power to move to a vote (as defined in [the operating manual](https://github.com/ethereum-optimism/OPerating-manual/blob/main/manual.md#valid-proposal-types)).  \\nThe process for submitting non-grant proposals is outlined in the [the operating manual](https://github.com/ethereum-optimism/OPerating-manual/blob/main/manual.md#valid-proposal-types)', metadata={'Address': 'governance/proposals.md <==', 'Header 2': 'Non-Grant Proposal Types'}),\n",
       "  Document(page_content='- [Developer Advisory Board Budget](https://vote.optimism.io/proposals/67269789039629895178640755758170247888863792004069768037736283616310331965838)\\n- [Developer Advisory Board Ratification](https://vote.optimism.io/proposals/95102633290576253416299445955061077431090693890673037767791097228222587378331)\\n- [Code of Conduct Council Budget](https://vote.optimism.io/proposals/26993004599223263087505603454119723751877285713239446072681254755783718227511)\\n- [Code of Conduct Elections](https://vote.optimism.io/proposals/102821998933460159156263544808281872605936639206851804749751748763651967264110)\\n- [Grants Council Operating Budget](https://vote.optimism.io/proposals/47864371633107534187617995773541299064963460661119440983190542488743950169122)\\n- [Grants Council Elections - Builders](https://vote.optimism.io/proposals/13644637236772462780287582686131348226526824657027343360896627559283471469688)\\n- [Grants Council Elections - Growth Experiments](https://vote.optimism.io/proposals/87355419461675705865096288750937924893466943101654806912041265394266455745819)\\n- [Grants Council Elections - Metrics and Milestones](https://vote.optimism.io/proposals/96868135958111078064987938855232246504506994378309573614627090826820561655088)\\n- [Intent Budgets](https://vote.optimism.io/proposals/11595556248137084019024264942104169821784001997050285438055123196153848845549)\\n- [Chain Delegation Program](https://vote.optimism.io/proposals/23645858735980247449510302520189443998369792603230659191221949690963680987113)\\n- [Ratification of the Law of Chains](https://vote.optimism.io/proposals/112047914448178129124907599845371359974256142096707624346739203514792263033877)\\n- [Anticapture Commission](https://vote.optimism.io/proposals/22387138384033903985192420283570655912990907953544385753324581204637906644383)\\n- [Security Council Vote #1](https://vote.optimism.io/proposals/27439950952007920118525230291344523079212068327713298769307857575418374325849)\\n- [Security Council Vote #2](https://vote.optimism.io/proposals/85591583404433237270543189567126336043697987369929953414380041066767718361144)\\n- [Upgrade #2: Canyon Protocol Upgrade](https://vote.optimism.io/proposals/20327152654308054166942093105443920402082671769027198649343468266910325783863)', metadata={'Address': 'governance/token-house-history.md <==', 'Header 2': 'History', 'Header 3': 'Reflection Period #4'})],\n",
       " AIMessage(content='The latest proposals include the Developer Advisory Board Budget, Developer Advisory Board Ratification, Code of Conduct Council Budget, Code of Conduct Elections, Grants Council Operating Budget, Grants Council Elections - Builders, Grants Council Elections - Growth Experiments, Grants Council Elections - Metrics and Milestones, Intent Budgets, Chain Delegation Program, Ratification of the Law of Chains, Anticapture Commission, Security Council Vote #1, Security Council Vote #2, and Upgrade #2: Canyon Protocol Upgrade.', response_metadata={'token_usage': {'completion_tokens': 98, 'prompt_tokens': 1527, 'total_tokens': 1625}, 'model_name': 'gpt-3.5-turbo-0125', 'system_fingerprint': None, 'finish_reason': 'stop', 'logprobs': None}, id='run-416d7404-8af0-445f-8d7b-0ad7ca3dbbed-0', usage_metadata={'input_tokens': 1527, 'output_tokens': 98, 'total_tokens': 1625}))"
      ]
     },
     "execution_count": 9,
     "metadata": {},
     "output_type": "execute_result"
    }
   ],
   "source": [
    "ask(\"what are the latest proposals?\")"
   ]
  },
  {
   "cell_type": "code",
   "execution_count": null,
   "metadata": {},
   "outputs": [],
   "source": []
  }
 ],
 "metadata": {
  "kernelspec": {
   "display_name": "bleu-chatbot",
   "language": "python",
   "name": "python3"
  },
  "language_info": {
   "codemirror_mode": {
    "name": "ipython",
    "version": 3
   },
   "file_extension": ".py",
   "mimetype": "text/x-python",
   "name": "python",
   "nbconvert_exporter": "python",
   "pygments_lexer": "ipython3",
   "version": "3.12.3"
  }
 },
 "nbformat": 4,
 "nbformat_minor": 2
}
